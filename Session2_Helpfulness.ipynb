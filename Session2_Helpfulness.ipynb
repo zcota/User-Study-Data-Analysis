{
 "cells": [
  {
   "cell_type": "code",
   "execution_count": 1,
   "metadata": {},
   "outputs": [
    {
     "data": {
      "text/html": [
       "<div>\n",
       "<style scoped>\n",
       "    .dataframe tbody tr th:only-of-type {\n",
       "        vertical-align: middle;\n",
       "    }\n",
       "\n",
       "    .dataframe tbody tr th {\n",
       "        vertical-align: top;\n",
       "    }\n",
       "\n",
       "    .dataframe thead th {\n",
       "        text-align: right;\n",
       "    }\n",
       "</style>\n",
       "<table border=\"1\" class=\"dataframe\">\n",
       "  <thead>\n",
       "    <tr style=\"text-align: right;\">\n",
       "      <th></th>\n",
       "      <th>Difficulty_Wizard</th>\n",
       "      <th>Difficulty_QuickForm</th>\n",
       "      <th>Difficulty_WebProtege</th>\n",
       "      <th>Difficulty_WikiData</th>\n",
       "      <th>Helpfulness_Wizard</th>\n",
       "      <th>Helpfulness_QuickForm</th>\n",
       "      <th>Helpfulness_WebProtege</th>\n",
       "      <th>Helpfulness_Wiki</th>\n",
       "    </tr>\n",
       "  </thead>\n",
       "  <tbody>\n",
       "    <tr>\n",
       "      <th>count</th>\n",
       "      <td>31.000000</td>\n",
       "      <td>31.000000</td>\n",
       "      <td>31.000000</td>\n",
       "      <td>31.000000</td>\n",
       "      <td>31.000000</td>\n",
       "      <td>31.000000</td>\n",
       "      <td>31.000000</td>\n",
       "      <td>31.000000</td>\n",
       "    </tr>\n",
       "    <tr>\n",
       "      <th>mean</th>\n",
       "      <td>2.161290</td>\n",
       "      <td>1.290323</td>\n",
       "      <td>2.903226</td>\n",
       "      <td>3.645161</td>\n",
       "      <td>2.161290</td>\n",
       "      <td>2.580645</td>\n",
       "      <td>2.548387</td>\n",
       "      <td>2.709677</td>\n",
       "    </tr>\n",
       "    <tr>\n",
       "      <th>std</th>\n",
       "      <td>0.734701</td>\n",
       "      <td>0.642575</td>\n",
       "      <td>0.700230</td>\n",
       "      <td>0.754912</td>\n",
       "      <td>1.003221</td>\n",
       "      <td>1.285151</td>\n",
       "      <td>0.994609</td>\n",
       "      <td>1.160274</td>\n",
       "    </tr>\n",
       "    <tr>\n",
       "      <th>min</th>\n",
       "      <td>1.000000</td>\n",
       "      <td>1.000000</td>\n",
       "      <td>1.000000</td>\n",
       "      <td>1.000000</td>\n",
       "      <td>1.000000</td>\n",
       "      <td>1.000000</td>\n",
       "      <td>1.000000</td>\n",
       "      <td>1.000000</td>\n",
       "    </tr>\n",
       "    <tr>\n",
       "      <th>25%</th>\n",
       "      <td>2.000000</td>\n",
       "      <td>1.000000</td>\n",
       "      <td>3.000000</td>\n",
       "      <td>4.000000</td>\n",
       "      <td>1.000000</td>\n",
       "      <td>1.000000</td>\n",
       "      <td>2.000000</td>\n",
       "      <td>2.000000</td>\n",
       "    </tr>\n",
       "    <tr>\n",
       "      <th>50%</th>\n",
       "      <td>2.000000</td>\n",
       "      <td>1.000000</td>\n",
       "      <td>3.000000</td>\n",
       "      <td>4.000000</td>\n",
       "      <td>2.000000</td>\n",
       "      <td>2.000000</td>\n",
       "      <td>3.000000</td>\n",
       "      <td>3.000000</td>\n",
       "    </tr>\n",
       "    <tr>\n",
       "      <th>75%</th>\n",
       "      <td>3.000000</td>\n",
       "      <td>1.000000</td>\n",
       "      <td>3.000000</td>\n",
       "      <td>4.000000</td>\n",
       "      <td>3.000000</td>\n",
       "      <td>4.000000</td>\n",
       "      <td>3.000000</td>\n",
       "      <td>4.000000</td>\n",
       "    </tr>\n",
       "    <tr>\n",
       "      <th>max</th>\n",
       "      <td>4.000000</td>\n",
       "      <td>4.000000</td>\n",
       "      <td>4.000000</td>\n",
       "      <td>4.000000</td>\n",
       "      <td>4.000000</td>\n",
       "      <td>4.000000</td>\n",
       "      <td>4.000000</td>\n",
       "      <td>4.000000</td>\n",
       "    </tr>\n",
       "  </tbody>\n",
       "</table>\n",
       "</div>"
      ],
      "text/plain": [
       "       Difficulty_Wizard  Difficulty_QuickForm  Difficulty_WebProtege  \\\n",
       "count          31.000000             31.000000              31.000000   \n",
       "mean            2.161290              1.290323               2.903226   \n",
       "std             0.734701              0.642575               0.700230   \n",
       "min             1.000000              1.000000               1.000000   \n",
       "25%             2.000000              1.000000               3.000000   \n",
       "50%             2.000000              1.000000               3.000000   \n",
       "75%             3.000000              1.000000               3.000000   \n",
       "max             4.000000              4.000000               4.000000   \n",
       "\n",
       "       Difficulty_WikiData  Helpfulness_Wizard  Helpfulness_QuickForm  \\\n",
       "count            31.000000           31.000000              31.000000   \n",
       "mean              3.645161            2.161290               2.580645   \n",
       "std               0.754912            1.003221               1.285151   \n",
       "min               1.000000            1.000000               1.000000   \n",
       "25%               4.000000            1.000000               1.000000   \n",
       "50%               4.000000            2.000000               2.000000   \n",
       "75%               4.000000            3.000000               4.000000   \n",
       "max               4.000000            4.000000               4.000000   \n",
       "\n",
       "       Helpfulness_WebProtege  Helpfulness_Wiki  \n",
       "count               31.000000         31.000000  \n",
       "mean                 2.548387          2.709677  \n",
       "std                  0.994609          1.160274  \n",
       "min                  1.000000          1.000000  \n",
       "25%                  2.000000          2.000000  \n",
       "50%                  3.000000          3.000000  \n",
       "75%                  3.000000          4.000000  \n",
       "max                  4.000000          4.000000  "
      ]
     },
     "execution_count": 1,
     "metadata": {},
     "output_type": "execute_result"
    }
   ],
   "source": [
    "\n",
    "\n",
    "import pandas as pd\n",
    "import numpy as np\n",
    "import os\n",
    "\n",
    "#---------Anaylsis of responses for HELPFULNESS of ontology user interfaces----------\n",
    "#Four interfaces include: Wizard, Quick Form, WebProtege, and Wiki Data\n",
    "\n",
    "df = pd.read_csv('Comparison2.csv')\n",
    "#read Session 2 Comparison Questionnaire CSV file, raw data\n",
    "\n",
    "\n",
    "#to read column headers use print(comparison2.columns)\n",
    "\n",
    "df.describe()\n",
    "#Statistical summary of User-study Session 2 responses from participants after using the software\n",
    "\n"
   ]
  },
  {
   "cell_type": "code",
   "execution_count": 4,
   "metadata": {},
   "outputs": [],
   "source": [
    "#Helpfulness - breakdown of ranking for helpfulness given by study participants after using the interface. \n",
    "#Columns broken down for Wizard, QuickFrom, WikiData, and WebProtege\n",
    "helpfulness =df[['Helpfulness_Wizard','Helpfulness_QuickForm','Helpfulness_Wiki','Helpfulness_WebProtege']]\n",
    "\n",
    "helpfulness_long=pd.melt(helpfulness, var_name='Tool', value_name='Rating')\n",
    "variable_split=helpfulness_long['Tool'].str.split('_')\n",
    "variable_split=variable_split.str[1]                              \n",
    "helpfulness_long['Tool']=variable_split\n",
    "helpfulness=helpfulness_long[['Tool','Rating']]\n",
    "\n",
    "#helpfulness"
   ]
  },
  {
   "cell_type": "code",
   "execution_count": 5,
   "metadata": {},
   "outputs": [
    {
     "data": {
      "text/html": [
       "<div>\n",
       "<style scoped>\n",
       "    .dataframe tbody tr th:only-of-type {\n",
       "        vertical-align: middle;\n",
       "    }\n",
       "\n",
       "    .dataframe tbody tr th {\n",
       "        vertical-align: top;\n",
       "    }\n",
       "\n",
       "    .dataframe thead th {\n",
       "        text-align: right;\n",
       "    }\n",
       "</style>\n",
       "<table border=\"1\" class=\"dataframe\">\n",
       "  <thead>\n",
       "    <tr style=\"text-align: right;\">\n",
       "      <th>Tool</th>\n",
       "      <th>QuickForm</th>\n",
       "      <th>WebProtege</th>\n",
       "      <th>Wiki</th>\n",
       "      <th>Wizard</th>\n",
       "    </tr>\n",
       "    <tr>\n",
       "      <th>Rating</th>\n",
       "      <th></th>\n",
       "      <th></th>\n",
       "      <th></th>\n",
       "      <th></th>\n",
       "    </tr>\n",
       "  </thead>\n",
       "  <tbody>\n",
       "    <tr>\n",
       "      <th>1</th>\n",
       "      <td>9</td>\n",
       "      <td>6</td>\n",
       "      <td>6</td>\n",
       "      <td>10</td>\n",
       "    </tr>\n",
       "    <tr>\n",
       "      <th>2</th>\n",
       "      <td>7</td>\n",
       "      <td>7</td>\n",
       "      <td>8</td>\n",
       "      <td>9</td>\n",
       "    </tr>\n",
       "    <tr>\n",
       "      <th>3</th>\n",
       "      <td>3</td>\n",
       "      <td>13</td>\n",
       "      <td>6</td>\n",
       "      <td>9</td>\n",
       "    </tr>\n",
       "    <tr>\n",
       "      <th>4</th>\n",
       "      <td>12</td>\n",
       "      <td>5</td>\n",
       "      <td>11</td>\n",
       "      <td>3</td>\n",
       "    </tr>\n",
       "  </tbody>\n",
       "</table>\n",
       "</div>"
      ],
      "text/plain": [
       "Tool    QuickForm  WebProtege  Wiki  Wizard\n",
       "Rating                                     \n",
       "1               9           6     6      10\n",
       "2               7           7     8       9\n",
       "3               3          13     6       9\n",
       "4              12           5    11       3"
      ]
     },
     "execution_count": 5,
     "metadata": {},
     "output_type": "execute_result"
    }
   ],
   "source": [
    "#Frequency Table - frequency of responses per ranking category\n",
    "#Rating of 1 indicates least helpful & 4 is the most helpful\n",
    "helpfulness_table=pd.crosstab(helpfulness_long.Rating, helpfulness_long.Tool)\n",
    "helpfulness_table\n"
   ]
  },
  {
   "cell_type": "code",
   "execution_count": 58,
   "metadata": {},
   "outputs": [
    {
     "data": {
      "text/html": [
       "<style  type=\"text/css\" >\n",
       "</style><table id=\"T_e8703fda_6fb7_11e9_95be_ecf4bb496e51\" ><thead>    <tr>        <th class=\"col_heading level0 col0\" >QuickForm</th>        <th class=\"col_heading level0 col1\" >Wizard</th>        <th class=\"col_heading level0 col2\" >WebProtege</th>        <th class=\"col_heading level0 col3\" >WikiData</th>    </tr></thead><tbody>\n",
       "                <tr>\n",
       "                                <td id=\"T_e8703fda_6fb7_11e9_95be_ecf4bb496e51row0_col0\" class=\"data row0 col0\" >3</td>\n",
       "                        <td id=\"T_e8703fda_6fb7_11e9_95be_ecf4bb496e51row0_col1\" class=\"data row0 col1\" >2</td>\n",
       "                        <td id=\"T_e8703fda_6fb7_11e9_95be_ecf4bb496e51row0_col2\" class=\"data row0 col2\" >3</td>\n",
       "                        <td id=\"T_e8703fda_6fb7_11e9_95be_ecf4bb496e51row0_col3\" class=\"data row0 col3\" >nan</td>\n",
       "            </tr>\n",
       "    </tbody></table>"
      ],
      "text/plain": [
       "<pandas.io.formats.style.Styler at 0x2c9a1f4ccf8>"
      ]
     },
     "execution_count": 58,
     "metadata": {},
     "output_type": "execute_result"
    }
   ],
   "source": [
    "#Pivot Table\n",
    "helpfulness_pivot=helpfulness_long.pivot_table(values='Rating', columns='Tool').round(0).astype(int).mode()\n",
    "\n",
    "helpfulness_pivot.reindex(columns=['QuickForm', 'Wizard', 'WebProtege', 'WikiData']).style.hide_index()\n",
    "\n"
   ]
  },
  {
   "cell_type": "code",
   "execution_count": 60,
   "metadata": {},
   "outputs": [
    {
     "data": {
      "text/html": [
       "<style  type=\"text/css\" >\n",
       "</style><table id=\"T_fc00f730_6fb7_11e9_b3f7_ecf4bb496e51\" ><thead>    <tr>        <th class=\"col_heading level0 col0\" >QuickForm</th>        <th class=\"col_heading level0 col1\" >Wizard</th>        <th class=\"col_heading level0 col2\" >WebProtege</th>        <th class=\"col_heading level0 col3\" >WikiData</th>    </tr></thead><tbody>\n",
       "                <tr>\n",
       "                                <td id=\"T_fc00f730_6fb7_11e9_b3f7_ecf4bb496e51row0_col0\" class=\"data row0 col0\" >2.58065</td>\n",
       "                        <td id=\"T_fc00f730_6fb7_11e9_b3f7_ecf4bb496e51row0_col1\" class=\"data row0 col1\" >2.16129</td>\n",
       "                        <td id=\"T_fc00f730_6fb7_11e9_b3f7_ecf4bb496e51row0_col2\" class=\"data row0 col2\" >2.54839</td>\n",
       "                        <td id=\"T_fc00f730_6fb7_11e9_b3f7_ecf4bb496e51row0_col3\" class=\"data row0 col3\" >nan</td>\n",
       "            </tr>\n",
       "    </tbody></table>"
      ],
      "text/plain": [
       "<pandas.io.formats.style.Styler at 0x2c9a1f92978>"
      ]
     },
     "execution_count": 60,
     "metadata": {},
     "output_type": "execute_result"
    }
   ],
   "source": [
    "helpfulness_pivot1=helpfulness_long.pivot_table(values='Rating', columns='Tool').mode()\n",
    "helpfulness_pivot1.reindex(columns=['QuickForm', 'Wizard', 'WebProtege', 'WikiData']).style.hide_index()\n",
    "\n"
   ]
  },
  {
   "cell_type": "code",
   "execution_count": 52,
   "metadata": {},
   "outputs": [
    {
     "data": {
      "text/plain": [
       "WebProtege    31\n",
       "Wizard        31\n",
       "QuickForm     31\n",
       "Wiki          31\n",
       "Name: Tool, dtype: int64"
      ]
     },
     "execution_count": 52,
     "metadata": {},
     "output_type": "execute_result"
    }
   ],
   "source": [
    "#Total responses for difficulty\n",
    "pd.value_counts(helpfulness['Tool'])"
   ]
  },
  {
   "cell_type": "code",
   "execution_count": null,
   "metadata": {},
   "outputs": [],
   "source": []
  },
  {
   "cell_type": "code",
   "execution_count": 46,
   "metadata": {},
   "outputs": [
    {
     "data": {
      "text/html": [
       "<div>\n",
       "<style scoped>\n",
       "    .dataframe tbody tr th:only-of-type {\n",
       "        vertical-align: middle;\n",
       "    }\n",
       "\n",
       "    .dataframe tbody tr th {\n",
       "        vertical-align: top;\n",
       "    }\n",
       "\n",
       "    .dataframe thead th {\n",
       "        text-align: right;\n",
       "    }\n",
       "</style>\n",
       "<table border=\"1\" class=\"dataframe\">\n",
       "  <thead>\n",
       "    <tr style=\"text-align: right;\">\n",
       "      <th></th>\n",
       "      <th>Tool</th>\n",
       "      <th>Rating</th>\n",
       "    </tr>\n",
       "  </thead>\n",
       "  <tbody>\n",
       "    <tr>\n",
       "      <th>3</th>\n",
       "      <td>Wizard</td>\n",
       "      <td>67</td>\n",
       "    </tr>\n",
       "    <tr>\n",
       "      <th>1</th>\n",
       "      <td>WebProtege</td>\n",
       "      <td>79</td>\n",
       "    </tr>\n",
       "    <tr>\n",
       "      <th>0</th>\n",
       "      <td>QuickForm</td>\n",
       "      <td>80</td>\n",
       "    </tr>\n",
       "    <tr>\n",
       "      <th>2</th>\n",
       "      <td>Wiki</td>\n",
       "      <td>84</td>\n",
       "    </tr>\n",
       "  </tbody>\n",
       "</table>\n",
       "</div>"
      ],
      "text/plain": [
       "         Tool  Rating\n",
       "3      Wizard      67\n",
       "1  WebProtege      79\n",
       "0   QuickForm      80\n",
       "2        Wiki      84"
      ]
     },
     "execution_count": 46,
     "metadata": {},
     "output_type": "execute_result"
    }
   ],
   "source": [
    "#Ranked total - participants given a scale of 1-4 - (1 is the most helpful, 4 is the least helpful) \n",
    "#Scale - lower total (easier) - higher total (harder)\n",
    "helpfulness2 = helpfulness.groupby(['Tool'], as_index=False).sum()\n",
    "helpfulness2.sort_values(by='Rating')"
   ]
  },
  {
   "cell_type": "code",
   "execution_count": 680,
   "metadata": {},
   "outputs": [
    {
     "data": {
      "text/plain": [
       "Difficulty_Wizard\n",
       "1     4\n",
       "2    17\n",
       "3     6\n",
       "4     1\n",
       "dtype: int64"
      ]
     },
     "execution_count": 680,
     "metadata": {},
     "output_type": "execute_result"
    }
   ],
   "source": [
    "#Summary of what respondents selected when ranking heplfulness for Wizard\n",
    "#17 people ranked it as 2 within the 1-4 heplfulness scalel (1 is the most helpful, 4 is the least helpful) \n",
    "df.groupby('helpfulness_Wizard').size()\n"
   ]
  },
  {
   "cell_type": "code",
   "execution_count": 44,
   "metadata": {},
   "outputs": [
    {
     "data": {
      "text/plain": [
       "Helpfulness_Wiki\n",
       "1     6\n",
       "2     8\n",
       "3     6\n",
       "4    11\n",
       "dtype: int64"
      ]
     },
     "execution_count": 44,
     "metadata": {},
     "output_type": "execute_result"
    }
   ],
   "source": [
    "#Summary of what respondents selected when ranking heplfulness for WikiData\n",
    "#11 people ranked it as 4 within the 1-4 helpfulness scale  (1 is the most helpful, 4 is the least helpful) \n",
    "df.groupby('Helpfulness_Wiki').size()\n"
   ]
  },
  {
   "cell_type": "code",
   "execution_count": 45,
   "metadata": {},
   "outputs": [
    {
     "data": {
      "text/plain": [
       "Helpfulness_WebProtege\n",
       "1     6\n",
       "2     7\n",
       "3    13\n",
       "4     5\n",
       "dtype: int64"
      ]
     },
     "execution_count": 45,
     "metadata": {},
     "output_type": "execute_result"
    }
   ],
   "source": [
    "#Summary of what respondents selected when ranking difficulty for WebProtege\n",
    "#13 people ranked it as 3 within the 1-4 helpfulness scale  (1 is the most helpful, 4 is the least helpful) \n",
    "df.groupby('Helpfulness_WebProtege').size()\n"
   ]
  },
  {
   "cell_type": "code",
   "execution_count": null,
   "metadata": {},
   "outputs": [],
   "source": []
  },
  {
   "cell_type": "code",
   "execution_count": null,
   "metadata": {},
   "outputs": [],
   "source": []
  }
 ],
 "metadata": {
  "kernelspec": {
   "display_name": "Python 3",
   "language": "python",
   "name": "python3"
  },
  "language_info": {
   "codemirror_mode": {
    "name": "ipython",
    "version": 3
   },
   "file_extension": ".py",
   "mimetype": "text/x-python",
   "name": "python",
   "nbconvert_exporter": "python",
   "pygments_lexer": "ipython3",
   "version": "3.7.3"
  }
 },
 "nbformat": 4,
 "nbformat_minor": 2
}
