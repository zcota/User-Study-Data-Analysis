{
 "cells": [
  {
   "cell_type": "code",
   "execution_count": 6,
   "metadata": {},
   "outputs": [
    {
     "data": {
      "text/html": [
       "<div>\n",
       "<style scoped>\n",
       "    .dataframe tbody tr th:only-of-type {\n",
       "        vertical-align: middle;\n",
       "    }\n",
       "\n",
       "    .dataframe tbody tr th {\n",
       "        vertical-align: top;\n",
       "    }\n",
       "\n",
       "    .dataframe thead th {\n",
       "        text-align: right;\n",
       "    }\n",
       "</style>\n",
       "<table border=\"1\" class=\"dataframe\">\n",
       "  <thead>\n",
       "    <tr style=\"text-align: right;\">\n",
       "      <th></th>\n",
       "      <th>Difficulty_Wizard</th>\n",
       "      <th>Difficulty_QuickForm</th>\n",
       "      <th>Difficulty_WebProtege</th>\n",
       "      <th>Difficulty_WikiData</th>\n",
       "      <th>Helpfulness_Wizard</th>\n",
       "      <th>Helpfulness_QuickForm</th>\n",
       "      <th>Helpfulness_WebProtege</th>\n",
       "      <th>Helpfulness_Wiki</th>\n",
       "    </tr>\n",
       "  </thead>\n",
       "  <tbody>\n",
       "    <tr>\n",
       "      <th>count</th>\n",
       "      <td>31.000000</td>\n",
       "      <td>31.000000</td>\n",
       "      <td>31.000000</td>\n",
       "      <td>31.000000</td>\n",
       "      <td>31.000000</td>\n",
       "      <td>31.000000</td>\n",
       "      <td>31.000000</td>\n",
       "      <td>31.000000</td>\n",
       "    </tr>\n",
       "    <tr>\n",
       "      <th>mean</th>\n",
       "      <td>2.161290</td>\n",
       "      <td>1.290323</td>\n",
       "      <td>2.903226</td>\n",
       "      <td>3.645161</td>\n",
       "      <td>2.161290</td>\n",
       "      <td>2.580645</td>\n",
       "      <td>2.548387</td>\n",
       "      <td>2.709677</td>\n",
       "    </tr>\n",
       "    <tr>\n",
       "      <th>std</th>\n",
       "      <td>0.734701</td>\n",
       "      <td>0.642575</td>\n",
       "      <td>0.700230</td>\n",
       "      <td>0.754912</td>\n",
       "      <td>1.003221</td>\n",
       "      <td>1.285151</td>\n",
       "      <td>0.994609</td>\n",
       "      <td>1.160274</td>\n",
       "    </tr>\n",
       "    <tr>\n",
       "      <th>min</th>\n",
       "      <td>1.000000</td>\n",
       "      <td>1.000000</td>\n",
       "      <td>1.000000</td>\n",
       "      <td>1.000000</td>\n",
       "      <td>1.000000</td>\n",
       "      <td>1.000000</td>\n",
       "      <td>1.000000</td>\n",
       "      <td>1.000000</td>\n",
       "    </tr>\n",
       "    <tr>\n",
       "      <th>25%</th>\n",
       "      <td>2.000000</td>\n",
       "      <td>1.000000</td>\n",
       "      <td>3.000000</td>\n",
       "      <td>4.000000</td>\n",
       "      <td>1.000000</td>\n",
       "      <td>1.000000</td>\n",
       "      <td>2.000000</td>\n",
       "      <td>2.000000</td>\n",
       "    </tr>\n",
       "    <tr>\n",
       "      <th>50%</th>\n",
       "      <td>2.000000</td>\n",
       "      <td>1.000000</td>\n",
       "      <td>3.000000</td>\n",
       "      <td>4.000000</td>\n",
       "      <td>2.000000</td>\n",
       "      <td>2.000000</td>\n",
       "      <td>3.000000</td>\n",
       "      <td>3.000000</td>\n",
       "    </tr>\n",
       "    <tr>\n",
       "      <th>75%</th>\n",
       "      <td>3.000000</td>\n",
       "      <td>1.000000</td>\n",
       "      <td>3.000000</td>\n",
       "      <td>4.000000</td>\n",
       "      <td>3.000000</td>\n",
       "      <td>4.000000</td>\n",
       "      <td>3.000000</td>\n",
       "      <td>4.000000</td>\n",
       "    </tr>\n",
       "    <tr>\n",
       "      <th>max</th>\n",
       "      <td>4.000000</td>\n",
       "      <td>4.000000</td>\n",
       "      <td>4.000000</td>\n",
       "      <td>4.000000</td>\n",
       "      <td>4.000000</td>\n",
       "      <td>4.000000</td>\n",
       "      <td>4.000000</td>\n",
       "      <td>4.000000</td>\n",
       "    </tr>\n",
       "  </tbody>\n",
       "</table>\n",
       "</div>"
      ],
      "text/plain": [
       "       Difficulty_Wizard  Difficulty_QuickForm  Difficulty_WebProtege  \\\n",
       "count          31.000000             31.000000              31.000000   \n",
       "mean            2.161290              1.290323               2.903226   \n",
       "std             0.734701              0.642575               0.700230   \n",
       "min             1.000000              1.000000               1.000000   \n",
       "25%             2.000000              1.000000               3.000000   \n",
       "50%             2.000000              1.000000               3.000000   \n",
       "75%             3.000000              1.000000               3.000000   \n",
       "max             4.000000              4.000000               4.000000   \n",
       "\n",
       "       Difficulty_WikiData  Helpfulness_Wizard  Helpfulness_QuickForm  \\\n",
       "count            31.000000           31.000000              31.000000   \n",
       "mean              3.645161            2.161290               2.580645   \n",
       "std               0.754912            1.003221               1.285151   \n",
       "min               1.000000            1.000000               1.000000   \n",
       "25%               4.000000            1.000000               1.000000   \n",
       "50%               4.000000            2.000000               2.000000   \n",
       "75%               4.000000            3.000000               4.000000   \n",
       "max               4.000000            4.000000               4.000000   \n",
       "\n",
       "       Helpfulness_WebProtege  Helpfulness_Wiki  \n",
       "count               31.000000         31.000000  \n",
       "mean                 2.548387          2.709677  \n",
       "std                  0.994609          1.160274  \n",
       "min                  1.000000          1.000000  \n",
       "25%                  2.000000          2.000000  \n",
       "50%                  3.000000          3.000000  \n",
       "75%                  3.000000          4.000000  \n",
       "max                  4.000000          4.000000  "
      ]
     },
     "execution_count": 6,
     "metadata": {},
     "output_type": "execute_result"
    }
   ],
   "source": [
    "\n",
    "\n",
    "import pandas as pd\n",
    "import numpy as np\n",
    "import os\n",
    "\n",
    "#---------Anaylsis of responses for difficulty of ontology user interfaces----------\n",
    "#Four interfaces include: Wizard, Quick Form, WebProtege, and Wiki Data\n",
    "\n",
    "df = pd.read_csv('Comparison2.csv')\n",
    "#read Session 2 Comparison Questionnaire CSV file, raw data\n",
    "\n",
    "\n",
    "#to read column headers use print(comparison2.columns)\n",
    "\n",
    "df.describe()\n",
    "#Statistical summary of User-study Session 2 responses from participants after using the software\n",
    "\n"
   ]
  },
  {
   "cell_type": "code",
   "execution_count": 3,
   "metadata": {},
   "outputs": [],
   "source": [
    "#Difficulty - breakdown of ranking for difficulty given by study participants after using the interface. \n",
    "#Columns broken down for Wizard, QuickFrom, WikiData, and WebProtege\n",
    "difficulty =df[['Difficulty_Wizard','Difficulty_QuickForm','Difficulty_WikiData','Difficulty_WebProtege']]\n",
    "\n",
    "difficulty_long=pd.melt(difficulty, var_name='Tool', value_name='Rating')\n",
    "variable_split=difficulty_long['Tool'].str.split('_')\n",
    "variable_split=variable_split.str[1]                              \n",
    "difficulty_long['Tool']=variable_split\n",
    "difficulty=difficulty_long[['Tool','Rating']]\n",
    "\n",
    "#difficulty"
   ]
  },
  {
   "cell_type": "code",
   "execution_count": 4,
   "metadata": {},
   "outputs": [
    {
     "data": {
      "text/html": [
       "<div>\n",
       "<style scoped>\n",
       "    .dataframe tbody tr th:only-of-type {\n",
       "        vertical-align: middle;\n",
       "    }\n",
       "\n",
       "    .dataframe tbody tr th {\n",
       "        vertical-align: top;\n",
       "    }\n",
       "\n",
       "    .dataframe thead th {\n",
       "        text-align: right;\n",
       "    }\n",
       "</style>\n",
       "<table border=\"1\" class=\"dataframe\">\n",
       "  <thead>\n",
       "    <tr style=\"text-align: right;\">\n",
       "      <th>Tool</th>\n",
       "      <th>QuickForm</th>\n",
       "      <th>WebProtege</th>\n",
       "      <th>WikiData</th>\n",
       "      <th>Wizard</th>\n",
       "    </tr>\n",
       "    <tr>\n",
       "      <th>Rating</th>\n",
       "      <th></th>\n",
       "      <th></th>\n",
       "      <th></th>\n",
       "      <th></th>\n",
       "    </tr>\n",
       "  </thead>\n",
       "  <tbody>\n",
       "    <tr>\n",
       "      <th>1</th>\n",
       "      <td>24</td>\n",
       "      <td>1</td>\n",
       "      <td>1</td>\n",
       "      <td>5</td>\n",
       "    </tr>\n",
       "    <tr>\n",
       "      <th>2</th>\n",
       "      <td>6</td>\n",
       "      <td>6</td>\n",
       "      <td>2</td>\n",
       "      <td>17</td>\n",
       "    </tr>\n",
       "    <tr>\n",
       "      <th>3</th>\n",
       "      <td>0</td>\n",
       "      <td>19</td>\n",
       "      <td>4</td>\n",
       "      <td>8</td>\n",
       "    </tr>\n",
       "    <tr>\n",
       "      <th>4</th>\n",
       "      <td>1</td>\n",
       "      <td>5</td>\n",
       "      <td>24</td>\n",
       "      <td>1</td>\n",
       "    </tr>\n",
       "  </tbody>\n",
       "</table>\n",
       "</div>"
      ],
      "text/plain": [
       "Tool    QuickForm  WebProtege  WikiData  Wizard\n",
       "Rating                                         \n",
       "1              24           1         1       5\n",
       "2               6           6         2      17\n",
       "3               0          19         4       8\n",
       "4               1           5        24       1"
      ]
     },
     "execution_count": 4,
     "metadata": {},
     "output_type": "execute_result"
    }
   ],
   "source": [
    "#Frequency Table - frequency of responses per ranking category\n",
    "#Rating of 1 is easiest & 4 is the most difficult\n",
    "difficulty_table=pd.crosstab(difficulty_long.Rating, difficulty_long.Tool)\n",
    "difficulty_table\n"
   ]
  },
  {
   "cell_type": "code",
   "execution_count": 31,
   "metadata": {},
   "outputs": [
    {
     "data": {
      "text/html": [
       "<style  type=\"text/css\" >\n",
       "</style><table id=\"T_502a0d5c_6fb2_11e9_9e56_ecf4bb496e51\" ><thead>    <tr>        <th class=\"col_heading level0 col0\" >QuickForm</th>        <th class=\"col_heading level0 col1\" >Wizard</th>        <th class=\"col_heading level0 col2\" >WebProtege</th>        <th class=\"col_heading level0 col3\" >WikiData</th>    </tr></thead><tbody>\n",
       "                <tr>\n",
       "                                <td id=\"T_502a0d5c_6fb2_11e9_9e56_ecf4bb496e51row0_col0\" class=\"data row0 col0\" >1</td>\n",
       "                        <td id=\"T_502a0d5c_6fb2_11e9_9e56_ecf4bb496e51row0_col1\" class=\"data row0 col1\" >2</td>\n",
       "                        <td id=\"T_502a0d5c_6fb2_11e9_9e56_ecf4bb496e51row0_col2\" class=\"data row0 col2\" >3</td>\n",
       "                        <td id=\"T_502a0d5c_6fb2_11e9_9e56_ecf4bb496e51row0_col3\" class=\"data row0 col3\" >4</td>\n",
       "            </tr>\n",
       "    </tbody></table>"
      ],
      "text/plain": [
       "<pandas.io.formats.style.Styler at 0x2069becb550>"
      ]
     },
     "execution_count": 31,
     "metadata": {},
     "output_type": "execute_result"
    }
   ],
   "source": [
    "#Pivot Table\n",
    "difficulty_pivot=difficulty_long.pivot_table(values='Rating', columns='Tool').round(0).astype(int).mode()\n",
    "difficulty_pivot.reindex(columns=['QuickForm', 'Wizard', 'WebProtege', 'WikiData']).style.hide_index()\n"
   ]
  },
  {
   "cell_type": "code",
   "execution_count": 16,
   "metadata": {},
   "outputs": [
    {
     "data": {
      "text/plain": [
       "QuickForm     31\n",
       "WikiData      31\n",
       "WebProtege    31\n",
       "Wizard        31\n",
       "Name: Tool, dtype: int64"
      ]
     },
     "execution_count": 16,
     "metadata": {},
     "output_type": "execute_result"
    }
   ],
   "source": [
    "#Total responses for difficulty\n",
    "pd.value_counts(difficulty['Tool'])"
   ]
  },
  {
   "cell_type": "code",
   "execution_count": 9,
   "metadata": {},
   "outputs": [
    {
     "data": {
      "text/html": [
       "<div>\n",
       "<style scoped>\n",
       "    .dataframe tbody tr th:only-of-type {\n",
       "        vertical-align: middle;\n",
       "    }\n",
       "\n",
       "    .dataframe tbody tr th {\n",
       "        vertical-align: top;\n",
       "    }\n",
       "\n",
       "    .dataframe thead th {\n",
       "        text-align: right;\n",
       "    }\n",
       "</style>\n",
       "<table border=\"1\" class=\"dataframe\">\n",
       "  <thead>\n",
       "    <tr style=\"text-align: right;\">\n",
       "      <th></th>\n",
       "      <th>Tool</th>\n",
       "      <th>Rating</th>\n",
       "    </tr>\n",
       "  </thead>\n",
       "  <tbody>\n",
       "    <tr>\n",
       "      <th>0</th>\n",
       "      <td>QuickForm</td>\n",
       "      <td>40</td>\n",
       "    </tr>\n",
       "    <tr>\n",
       "      <th>3</th>\n",
       "      <td>Wizard</td>\n",
       "      <td>67</td>\n",
       "    </tr>\n",
       "    <tr>\n",
       "      <th>1</th>\n",
       "      <td>WebProtege</td>\n",
       "      <td>90</td>\n",
       "    </tr>\n",
       "    <tr>\n",
       "      <th>2</th>\n",
       "      <td>WikiData</td>\n",
       "      <td>113</td>\n",
       "    </tr>\n",
       "  </tbody>\n",
       "</table>\n",
       "</div>"
      ],
      "text/plain": [
       "         Tool  Rating\n",
       "0   QuickForm      40\n",
       "3      Wizard      67\n",
       "1  WebProtege      90\n",
       "2    WikiData     113"
      ]
     },
     "execution_count": 9,
     "metadata": {},
     "output_type": "execute_result"
    }
   ],
   "source": [
    "#Ranked total - participants given a scale of 1-4 with 1 being easier to use & 4 harder to use.\n",
    "#Scale - lower total (easier) - higher total (harder)\n",
    "difficulty2 = difficulty.groupby(['Tool'], as_index=False).sum()\n",
    "difficulty2.sort_values(by='Rating')"
   ]
  },
  {
   "cell_type": "code",
   "execution_count": 10,
   "metadata": {},
   "outputs": [
    {
     "data": {
      "text/plain": [
       "Difficulty_Wizard\n",
       "1     5\n",
       "2    17\n",
       "3     8\n",
       "4     1\n",
       "dtype: int64"
      ]
     },
     "execution_count": 10,
     "metadata": {},
     "output_type": "execute_result"
    }
   ],
   "source": [
    "#Summary of what respondents selected when ranking difficultyfor Wizard\n",
    "#17 people ranked it as 2 withing the 1-4 difficulty scale\n",
    "df.groupby('Difficulty_Wizard').size()\n"
   ]
  },
  {
   "cell_type": "code",
   "execution_count": 13,
   "metadata": {},
   "outputs": [
    {
     "data": {
      "text/plain": [
       "Difficulty_WikiData\n",
       "1     1\n",
       "2     2\n",
       "3     4\n",
       "4    24\n",
       "dtype: int64"
      ]
     },
     "execution_count": 13,
     "metadata": {},
     "output_type": "execute_result"
    }
   ],
   "source": [
    "#Summary of what respondents selected when ranking difficulty for WikiData\n",
    "#24 people ranked it as 4 withing the 1-4 difficulty scale (hardest)\n",
    "df.groupby('Difficulty_WikiData').size()\n"
   ]
  },
  {
   "cell_type": "code",
   "execution_count": 14,
   "metadata": {},
   "outputs": [
    {
     "data": {
      "text/plain": [
       "Difficulty_WebProtege\n",
       "1     1\n",
       "2     6\n",
       "3    19\n",
       "4     5\n",
       "dtype: int64"
      ]
     },
     "execution_count": 14,
     "metadata": {},
     "output_type": "execute_result"
    }
   ],
   "source": [
    "#Summary of what respondents selected when ranking difficulty for WikiData\n",
    "#19 people ranked it as 3 within the 1-4 difficulty scale (hardest)\n",
    "df.groupby('Difficulty_WebProtege').size()\n"
   ]
  },
  {
   "cell_type": "code",
   "execution_count": null,
   "metadata": {},
   "outputs": [],
   "source": []
  },
  {
   "cell_type": "code",
   "execution_count": null,
   "metadata": {},
   "outputs": [],
   "source": []
  }
 ],
 "metadata": {
  "kernelspec": {
   "display_name": "Python 3",
   "language": "python",
   "name": "python3"
  },
  "language_info": {
   "codemirror_mode": {
    "name": "ipython",
    "version": 3
   },
   "file_extension": ".py",
   "mimetype": "text/x-python",
   "name": "python",
   "nbconvert_exporter": "python",
   "pygments_lexer": "ipython3",
   "version": "3.7.3"
  }
 },
 "nbformat": 4,
 "nbformat_minor": 2
}
